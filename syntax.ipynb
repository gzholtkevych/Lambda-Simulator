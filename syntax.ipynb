{
  "nbformat": 4,
  "nbformat_minor": 0,
  "metadata": {
    "colab": {
      "provenance": [],
      "toc_visible": true,
      "authorship_tag": "ABX9TyOenXEcuNvXit78AnmEPU+t",
      "include_colab_link": true
    },
    "kernelspec": {
      "name": "python3",
      "display_name": "Python 3"
    },
    "language_info": {
      "name": "python"
    }
  },
  "cells": [
    {
      "cell_type": "markdown",
      "metadata": {
        "id": "view-in-github",
        "colab_type": "text"
      },
      "source": [
        "<a href=\"https://colab.research.google.com/github/gzholtkevych/Lambda-Simulator/blob/main/syntax.ipynb\" target=\"_parent\"><img src=\"https://colab.research.google.com/assets/colab-badge.svg\" alt=\"Open In Colab\"/></a>"
      ]
    },
    {
      "cell_type": "markdown",
      "source": [
        "<H1><b>Typeless Lambda Calculus</b></H1>"
      ],
      "metadata": {
        "id": "JogJH0u5LgSp"
      }
    },
    {
      "cell_type": "markdown",
      "source": [
        "# Preparing Notebook for Using"
      ],
      "metadata": {
        "id": "-rrkm3RuLx_H"
      }
    },
    {
      "cell_type": "code",
      "execution_count": null,
      "metadata": {
        "id": "r9L7G4M4LXsC"
      },
      "outputs": [],
      "source": [
        "from typing import Dict, Optional, Tuple, Union, List\n",
        "from typing_extensions import Self"
      ]
    },
    {
      "cell_type": "markdown",
      "source": [
        "# Syntax"
      ],
      "metadata": {
        "id": "oIMbRxcFeVhE"
      }
    },
    {
      "cell_type": "markdown",
      "source": [
        "## Variables"
      ],
      "metadata": {
        "id": "Gjn0OYoyM3Y1"
      }
    },
    {
      "cell_type": "markdown",
      "source": [
        "### Understanding"
      ],
      "metadata": {
        "id": "BQ2WJ9rcZSm0"
      }
    },
    {
      "cell_type": "markdown",
      "source": [
        "A variable is an atomic entity of a lambda calculus that refers to itself.<br/>\n",
        "In other words,\n",
        "\n",
        ">the value of a variable is its name.\n",
        "\n",
        "We understand **atomicity** as\n",
        "\n",
        ">the property of a one-to-one correspondence between variables and memory blocks allocated for them."
      ],
      "metadata": {
        "id": "tWfCtUIMM7An"
      }
    },
    {
      "cell_type": "markdown",
      "source": [
        "### Implementing"
      ],
      "metadata": {
        "id": "sNiQWjBhZW4r"
      }
    },
    {
      "cell_type": "markdown",
      "source": [
        "The notion is of a var implemented by the class `var`.\n",
        "\n",
        "*Static fields*\n",
        "\n",
        "```\n",
        "__declared       is the dictionary of all declared variables;\n",
        "                 the key of a variable in this dictionary is the variable name\n",
        "__check_varname  is a function that takes a string representing a variable name and\n",
        "                 throws an exception if the string does not match the variable\n",
        "                 name format namely, an identifier starting with a lowercase letter\n",
        "```\n",
        "\n",
        "*Class methods*\n",
        "\n",
        "```\n",
        "get           returns either the variable by its name if that variable is already declared or\n",
        "              returns `None` if it is not declared\n",
        "all_declared  returns the list of all declared variables\n",
        "```"
      ],
      "metadata": {
        "id": "GzRjNycEZrfh"
      }
    },
    {
      "cell_type": "code",
      "source": [
        "class var(str):\n",
        "\n",
        "    __declared: Dict[str, Self] = {}  # the dictionary of declared variables\n",
        "                                     # with the variable name as its key\n",
        "\n",
        "    def __check_varname(varname: str) -> Optional[str]:\n",
        "        if not isinstance(varname, str):\n",
        "            return \"invalid type of varname\"\n",
        "        if not (varname and varname.isidentifier() and varname[0].islower()):\n",
        "            return \"invalid format of varname\"\n",
        "        return None\n",
        "\n",
        "    def __new__(cls, varname: str) -> Self:\n",
        "        msg = cls.__check_varname(varname)\n",
        "        if msg is not None:\n",
        "            raise ValueError(f\"var() error! {msg}\")\n",
        "        if varname not in cls.__declared:  # 'varname' is a new name\n",
        "            cls.__declared[varname] = str.__new__(cls, varname)\n",
        "        return cls.__declared[varname]\n",
        "\n",
        "    def __eq__(self, another: Self) -> bool:\n",
        "        if not isinstance(another, var):\n",
        "            return False\n",
        "        return super().__eq__(another)\n",
        "\n",
        "    @classmethod\n",
        "    def get(cls, varname: str) -> Optional[Self]:\n",
        "        msg = cls.__check_varname(varname)\n",
        "        if msg is not None:\n",
        "            raise ValueError(f\"var_get() error! {msg}\")\n",
        "        try:\n",
        "            return cls.__declared[varname]\n",
        "        except KeyError:\n",
        "            return None\n",
        "\n",
        "    @classmethod\n",
        "    def all_declared(cls) -> List[Self]:\n",
        "        return [cls.__declared[key] for key in cls.__declared]"
      ],
      "metadata": {
        "id": "R4KqoNKIPZ_Y"
      },
      "execution_count": null,
      "outputs": []
    },
    {
      "cell_type": "markdown",
      "source": [
        "## Lambda Terms"
      ],
      "metadata": {
        "id": "Fl-7Aj4IhBO_"
      }
    },
    {
      "cell_type": "markdown",
      "source": [
        "### Understanding"
      ],
      "metadata": {
        "id": "fOaMEqHThLVP"
      }
    },
    {
      "cell_type": "markdown",
      "source": [
        "Lambda terms are built from variables using three constructors\n",
        "\n",
        "- `atom`, which coerces a variable to the corresponding atomic term;\n",
        "- `application`, which applies one term to another;\n",
        "- `abstraction`, which declares one variable of the term as a function argument.\n",
        "\n",
        "The following notation is usually used.\n",
        "\n",
        "- **atom:** $\\dfrac{x\\text{ is a variable}}{x\\text{ is a term}}$;\n",
        "- **application:** $\\dfrac{M\\text{ is a term}\\quad N\\text{ is a term}}{(MN)\\text{ is a term}}$;\n",
        "- **abstraction:** $\\dfrac{x\\text{ is a variable}\\quad M\\text{ is a term}}{(\\lambda\\,x\\mathop{.}M)\\text{ is a term}}$.\n",
        "\n",
        "The symbols '$\\lambda$', '(', ')', and '.' are punctuation marks Lambda Calculus and they do not belong to the set of variables."
      ],
      "metadata": {
        "id": "TozmmxhwhkdT"
      }
    },
    {
      "cell_type": "markdown",
      "source": [
        "### Implementing"
      ],
      "metadata": {
        "id": "g3VsMJB3hXTa"
      }
    },
    {
      "cell_type": "code",
      "source": [
        "class Term(tuple):\n",
        "\n",
        "    ATM: int = 0\n",
        "    APP: int = 1\n",
        "    ABS: int = 2\n",
        "\n",
        "    def __new__(cls, *args: Tuple) -> Self:\n",
        "        if not args:\n",
        "            raise ValueError(\"Term() error! Missing constructor argument(s)\")\n",
        "        if len(args) == 1 and type(args[0]) == var:  # the case of an atom\n",
        "            pass\n",
        "        elif len(args) == 2:  # the case of an application or an abstraction\n",
        "            if type(args[0]) == Term and type(args[1]) == Term:\n",
        "                pass  # the case of an application\n",
        "            elif type(args[0]) == var and type(args[1]) == Term:\n",
        "                pass  # the case of an abstraction\n",
        "            else:\n",
        "                raise TypeError(\n",
        "                    \"Term() error! Invalid constructor argument(s) type\")\n",
        "        else:\n",
        "            raise ValueError(\"unrecognized term constructor\")\n",
        "        return super().__new__(cls, *args)\n",
        "\n",
        "    @classmethod\n",
        "    def atm(cls, x: Union[str, var]) -> Self:\n",
        "        if type(x) == var:\n",
        "            return cls(x)\n",
        "        try:\n",
        "            return cls(0, var(x))\n",
        "        except:\n",
        "            pass\n",
        "        raise TypeError(\"atm() error! Invalid argument type\")\n",
        "\n",
        "    @classmethod\n",
        "    def app(cls, t1: Self, t2: Self) -> Self:\n",
        "        if type(t1) == Term and type(t2) == Term:\n",
        "            return cls(t1, t2)\n",
        "        raise TypeError(\"app() error! Invalid argument(s) type\")\n",
        "\n",
        "    @classmethod\n",
        "    def abs(cls, x: Union[str, var], t: Self) -> Self:\n",
        "        if type(t) == Term:\n",
        "            if type(x) == var:\n",
        "                return cls(x, t)\n",
        "            try:\n",
        "                return cls(var(x), t)\n",
        "            except:\n",
        "                pass\n",
        "        raise TypeError(\"abs() error! Invalid argument(s) type\")\n",
        "\n",
        "    @property\n",
        "    def kind(self) -> int:\n",
        "        return (Term.ATM if len(self) == 1 else\n",
        "                Term.APP if type(self[0]) == Term else\n",
        "                Term.ABS)\n",
        "\n",
        "    def __str__(self):\n",
        "        if self.kind == Term.ATM:\n",
        "            return self[0]\n",
        "        if self.kind == Term.APP:\n",
        "            return f\"({self[0]} {self[1]})\"\n",
        "        # self.kind == Term.ABS\n",
        "        return f\"(λ {self[0]}.{self[1]})\""
      ],
      "metadata": {
        "id": "BHfcNuerhL2X"
      },
      "execution_count": null,
      "outputs": []
    },
    {
      "cell_type": "markdown",
      "source": [
        "## Syntactic Characteristics of Terms"
      ],
      "metadata": {
        "id": "l-7STUeyN_vi"
      }
    },
    {
      "cell_type": "markdown",
      "source": [
        "Property `size` is defined as follows\n",
        "\n",
        "- if term $M$ matches with an atom then $\\texttt{size}(M)=1$;\n",
        "- if term $M$ matches with an application $(N_1\\,N_2)$ then $\\texttt{size}(M)=\\texttt{size}(N_1)+\\texttt{size}(N_2)+1$;\n",
        "- if term $M$ matches with an abstraction $(\\lambda\\,x\\mathop{.}N)$ then $\\texttt{size}(M)=\\texttt{size}(N)+1$."
      ],
      "metadata": {
        "id": "rS4FtEgeOIxl"
      }
    },
    {
      "cell_type": "code",
      "source": [
        "def size(t: Term) -> int:\n",
        "    if type(t) != Term:\n",
        "        raise TypeError(\"size() error!Tterm is expected\")\n",
        "    if t.kind == \"atom\":\n",
        "        return 1\n",
        "    if t.kind == \"application\":\n",
        "        return size(t[0]) + size(t[1]) + 1\n",
        "    # t.kind == \"abstraction\"\n",
        "    return size(t[1]) + 1"
      ],
      "metadata": {
        "id": "NoY-69s8OXTv"
      },
      "execution_count": null,
      "outputs": []
    },
    {
      "cell_type": "markdown",
      "source": [
        "Property `height` is defined as follows\n",
        "\n",
        "- if term $M$ matches with an atom then $\\texttt{height}(M)=1$;\n",
        "- if term $M$ matches with an application $(N_1\\,N_2)$ then $\\texttt{size}(M)=\\max(\\texttt{height}(N_1),\\texttt{height}(N_2))+1$;\n",
        "- if term $M$ matches with an abstraction $(\\lambda\\,x\\mathop{.}N)$ then $\\texttt{height}(M)=\\texttt{height}(N)+1$."
      ],
      "metadata": {
        "id": "n0sI4iFMTl0u"
      }
    },
    {
      "cell_type": "code",
      "source": [
        "def height(t: Term) -> int:\n",
        "    if type(t) != Term:\n",
        "        raise TypeError(\"size() error! Term is expected\")\n",
        "    if t.kind == \"atom\":\n",
        "        return 1\n",
        "    if t.kind == \"application\":\n",
        "        return max(height(t[0]), height(t[1])) + 1\n",
        "    # t.kind == \"abstraction\"\n",
        "    return height(t[1]) + 1"
      ],
      "metadata": {
        "id": "NcGosZlSTuOs"
      },
      "execution_count": null,
      "outputs": []
    },
    {
      "cell_type": "markdown",
      "source": [
        "Property `width` is defined as follows\n",
        "\n",
        "- if term $M$ matches with an atom then $\\texttt{width}(M)=1$;\n",
        "- if term $M$ matches with an application $(N_1\\,N_2)$ then $\\texttt{width}(M)=\\texttt{width}(N_1)+\\texttt{width}(N_2)$;\n",
        "- if term $M$ matches with an abstraction $(\\lambda\\,x\\mathop{.}N)$ then $\\texttt{width}(M)=\\texttt{width}(N)$."
      ],
      "metadata": {
        "id": "juzL_f83VGlw"
      }
    },
    {
      "cell_type": "code",
      "source": [
        "def width(t: Term) -> int:\n",
        "    if type(t) != Term:\n",
        "        raise TypeError(\"width() error! Term is expected\")\n",
        "    if t.kind == \"atom\":\n",
        "        return 1\n",
        "    if t.kind == \"application\":\n",
        "        return width(t[0]) + width(t[1])\n",
        "    # t.kind == \"abstraction\"\n",
        "    return width(t[1])"
      ],
      "metadata": {
        "id": "FSYV_GovVx73"
      },
      "execution_count": null,
      "outputs": []
    },
    {
      "cell_type": "markdown",
      "source": [
        "## Variables of a Term; Fresh, Free, and Binder Variables of a Term"
      ],
      "metadata": {
        "id": "_IUhzZzh9wx4"
      }
    },
    {
      "cell_type": "markdown",
      "source": [
        "### Variables of a Term"
      ],
      "metadata": {
        "id": "U6-nf2O7Lh3g"
      }
    },
    {
      "cell_type": "markdown",
      "source": [
        "A variable $x$ is a ***variable of a term*** $M$ if\n",
        "\n",
        "- $M=x$;\n",
        "- $x$ is a variable of $N$ or $x$ is a variable of $K$ whenever $M=(N\\,K)$;\n",
        "- $x=y$ or $x$ is a variable of $N$ whwnever $M=(\\lambda\\ y\\mathop{.}N)$."
      ],
      "metadata": {
        "id": "SkprgSDVLnav"
      }
    },
    {
      "cell_type": "code",
      "source": [
        "def isvar(x: var, M: Term) -> bool:\n",
        "    \"\"\"\n",
        "    The function determines whether a variable is a variable of a term.\n",
        "\n",
        "    Arguments:\n",
        "        x: a variable\n",
        "        M: a term\n",
        "    Returns\n",
        "        True:   if x is a variable of M\n",
        "        False:  if x is not a variable of M\n",
        "    \"\"\"\n",
        "    pass  # realize this function!"
      ],
      "metadata": {
        "id": "8Z4B60hpNGYh"
      },
      "execution_count": null,
      "outputs": []
    },
    {
      "cell_type": "markdown",
      "source": [
        "### Fresh Variables of a Term"
      ],
      "metadata": {
        "id": "JdCX5zvsCtgC"
      }
    },
    {
      "cell_type": "markdown",
      "source": [
        "A variable $x$ is called a ***fresh*** variable of a term $M$ if\n",
        "\n",
        "- $x\\neq y$ whenever $M=y$;\n",
        "- $x$ is a fresh variable of both $N$ and $K$ whenever $M=(N\\,K)$;\n",
        "- $x\\neq y$ and $x$ is a fresh variable of $N$ whenever $M=(\\lambda\\ x\\mathop{.}N)$.\n"
      ],
      "metadata": {
        "id": "qs6ty8Ft-Fv3"
      }
    },
    {
      "cell_type": "code",
      "source": [
        "def isfresh(x: var, M: Term) -> bool:\n",
        "    \"\"\"\n",
        "    The function determines whether a variable is a fresh variable of a term.\n",
        "\n",
        "    Arguments:\n",
        "        x: a variable\n",
        "        M: a term\n",
        "    Returns\n",
        "        True:  if x is a fresh variable of M\n",
        "        False: if x is not a fresh variable of M\n",
        "    \"\"\"\n",
        "    pass  # realize this function!"
      ],
      "metadata": {
        "id": "jZ3KmkHK-CEg"
      },
      "execution_count": null,
      "outputs": []
    },
    {
      "cell_type": "code",
      "source": [
        "def get_fresh_variable(*args: Tuple[Term, ...]) -> var:\n",
        "    \"\"\"\n",
        "    The function returns some fresh variable of a finite set of terms.\n",
        "\n",
        "    Arguments:\n",
        "        args: a tuple of terms\n",
        "    Returns\n",
        "        a variable that is a fresh variable of each term in args\n",
        "    \"\"\"\n",
        "    pass  # realize this function!"
      ],
      "metadata": {
        "id": "rduD968AAXDD"
      },
      "execution_count": null,
      "outputs": []
    },
    {
      "cell_type": "markdown",
      "source": [
        "### Free Variables of a Term"
      ],
      "metadata": {
        "id": "-qqVMq1YCzwR"
      }
    },
    {
      "cell_type": "markdown",
      "source": [
        "A variable $x$ is a ***free*** variable of a term $M$ if\n",
        "\n",
        "- $x=y$ whenever $M=y$;\n",
        "- $x$ is a free variable of $N$ or $x$ is a free variable of $K$ whenever $M=(N\\,K)$;\n",
        "- $x\\neq y$ and $x$ is a free variable of $N$ whenever $M=(\\lambda\\,y\\mathop{.}N)$."
      ],
      "metadata": {
        "id": "Opcm-HVpEAs1"
      }
    },
    {
      "cell_type": "code",
      "source": [
        "def isfree(x: var, M: Term) -> bool:\n",
        "    \"\"\"\n",
        "    The function detrmines whether a variable is a free variable of a term.\n",
        "\n",
        "    Arguments:\n",
        "        x: a variable\n",
        "        M: a term\n",
        "    Returns\n",
        "        True:  if x is a free variable of M\n",
        "        False: if x is not a free variable of M\n",
        "    \"\"\"\n",
        "    pass  # realize this function!"
      ],
      "metadata": {
        "id": "RcvOfL_oD_gb"
      },
      "execution_count": null,
      "outputs": []
    },
    {
      "cell_type": "markdown",
      "source": [
        "### Binder Variables of a Term\n",
        "\n",
        "A variable $x$ is a ***binder*** variable of a term $M$ if $M\\neq y$ for any variable $y$ and\n",
        "\n",
        "- $x$ is a binder variable of $N$ or $x$ is a binder variable of $K$ whenever $M=(N\\,K)$;\n",
        "- $x=y$ or $x$ is a binder variable of $N$ whwnever $M=(\\lambda\\ y\\mathop{.}N)$.\n"
      ],
      "metadata": {
        "id": "wNAGVCyOHw5m"
      }
    },
    {
      "cell_type": "code",
      "source": [
        "def isbinder(x: var, M: Term) -> bool:\n",
        "    \"\"\"\n",
        "    The function detrmines whether a variable is a binder variable of a term.\n",
        "\n",
        "    Arguments:\n",
        "        x: a variable\n",
        "        M: a term\n",
        "    Returns\n",
        "        True:  if x is a binder variable of M\n",
        "        False: if x is not a binder variable of M\n",
        "    \"\"\"\n",
        "    pass  # realize this function!"
      ],
      "metadata": {
        "id": "D4jknoMSN9cd"
      },
      "execution_count": null,
      "outputs": []
    },
    {
      "cell_type": "markdown",
      "source": [
        "## Term Structure"
      ],
      "metadata": {
        "id": "R3MNJ559pJOz"
      }
    },
    {
      "cell_type": "markdown",
      "source": [],
      "metadata": {
        "id": "u0Ps0kJppQHi"
      }
    },
    {
      "cell_type": "code",
      "source": [
        "def subterm(t: Term, ref: str) -> Optional[Term]:\n",
        "    if type(t) != Term:\n",
        "        raise TypeError(\"subterm() error! Bad type of term\")\n",
        "    if type(ref) != str:\n",
        "        raise TypeError(\"subterm() error! Bad type of reference\")\n",
        "    if ref and not all(c == '0' or c == '1' for c in ref):\n",
        "        raise ValueError(\"subterm() error! Bad value of reference\")\n",
        "    if ref == \"\":\n",
        "        return t\n",
        "    if t.kind == Term.ATM:\n",
        "        return None\n",
        "    href, tref = ref[0], ref[1 :]\n",
        "    if t.kind == Term.APP:\n",
        "        if href == '0':\n",
        "            return subterm(t[0], tref)\n",
        "        else:\n",
        "            return subterm(t[1], tref)\n",
        "    # t.kind == Term.ABS\n",
        "    if href == '0':\n",
        "        return subterm(t[1], tref)\n",
        "    return None"
      ],
      "metadata": {
        "id": "qMGKxMZ9pQ9m"
      },
      "execution_count": null,
      "outputs": []
    },
    {
      "cell_type": "markdown",
      "source": [
        "A term is called a ***redex*** if it is $((\\lambda\\,x\\mathop{.}M) N)$."
      ],
      "metadata": {
        "id": "oeVr1AQGnBFn"
      }
    },
    {
      "cell_type": "code",
      "source": [
        "def isredex(t: Term) -> bool:\n",
        "    return t.kind == Term.APP and t[0].kind == Term.ABS"
      ],
      "metadata": {
        "id": "av06ZcIvnBl7"
      },
      "execution_count": null,
      "outputs": []
    },
    {
      "cell_type": "markdown",
      "source": [
        "# Transformations"
      ],
      "metadata": {
        "id": "G1pocltgeI5X"
      }
    },
    {
      "cell_type": "markdown",
      "source": [
        "## Beta-Reduction"
      ],
      "metadata": {
        "id": "pu3lvIbMfOQ3"
      }
    }
  ]
}